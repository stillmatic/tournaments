{
 "cells": [
  {
   "cell_type": "code",
   "execution_count": 1,
   "metadata": {},
   "outputs": [],
   "source": [
    "from tournament import Tournament, Simulation\n",
    "from random import seed\n",
    "import pandas as pd\n",
    "import numpy as np\n",
    "\n",
    "rand_var = False\n",
    "# dist_var = 'lognorm'\n",
    "n = 64\n",
    "\n",
    "%load_ext autoreload"
   ]
  },
  {
   "cell_type": "code",
   "execution_count": 2,
   "metadata": {
    "collapsed": true
   },
   "outputs": [],
   "source": [
    "emp_vals = pd.read_csv(\"data/bt_pi_09.csv\")"
   ]
  },
  {
   "cell_type": "markdown",
   "metadata": {},
   "source": [
    "Effect of rounds on medium size tournament, using empirical strengths."
   ]
  },
  {
   "cell_type": "code",
   "execution_count": 3,
   "metadata": {
    "collapsed": true
   },
   "outputs": [],
   "source": [
    "# 3 rounds\n",
    "sim = Simulation(n, 3, 500,  **{'strengths': emp_vals.x, 'k': 16, 'random': rand_var})\n",
    "sim.simulate()\n"
   ]
  },
  {
   "cell_type": "code",
   "execution_count": 4,
   "metadata": {
    "collapsed": true,
    "scrolled": true
   },
   "outputs": [],
   "source": [
    "# 4 rounds\n",
    "sim2 = Simulation(n, 4, 500,  **{'strengths': emp_vals.x, 'k': 16, 'random': rand_var})\n",
    "sim2.simulate()\n"
   ]
  },
  {
   "cell_type": "code",
   "execution_count": 5,
   "metadata": {
    "collapsed": true
   },
   "outputs": [],
   "source": [
    "# 5 rounds\n",
    "sim3 = Simulation(n, 5, 500,  **{'strengths': emp_vals.x, 'k': 16, 'random': rand_var})\n",
    "sim3.simulate()\n"
   ]
  },
  {
   "cell_type": "code",
   "execution_count": 6,
   "metadata": {
    "collapsed": true
   },
   "outputs": [],
   "source": [
    "# 6 rounds\n",
    "sim4 = Simulation(n, 6, 500,  **{'strengths': emp_vals.x, 'k': 16, 'random': rand_var})\n",
    "sim4.simulate()\n"
   ]
  },
  {
   "cell_type": "code",
   "execution_count": 7,
   "metadata": {
    "collapsed": true
   },
   "outputs": [],
   "source": [
    "# 7 rounds\n",
    "sim5 = Simulation(n, 7, 500,  **{'strengths': emp_vals.x, 'k': 16, 'random': rand_var})\n",
    "sim5.simulate()\n"
   ]
  },
  {
   "cell_type": "code",
   "execution_count": 8,
   "metadata": {
    "collapsed": true
   },
   "outputs": [],
   "source": [
    "# 8 rounds\n",
    "sim6 = Simulation(n, 8, 500,  **{'strengths': emp_vals.x, 'k': 16, 'random': rand_var})\n",
    "sim6.simulate()\n"
   ]
  },
  {
   "cell_type": "code",
   "execution_count": 9,
   "metadata": {
    "collapsed": true
   },
   "outputs": [],
   "source": [
    "# 9 rounds\n",
    "sim7 = Simulation(n, 9, 500,  **{'strengths': emp_vals.x, 'k': 16, 'random': rand_var})\n",
    "sim7.simulate()\n"
   ]
  },
  {
   "cell_type": "code",
   "execution_count": 10,
   "metadata": {},
   "outputs": [],
   "source": [
    "# mean\n",
    "res = pd.concat([pd.DataFrame(sim7.get_results().mean()).transpose(),\n",
    "           pd.DataFrame(sim.get_results().mean()).transpose(),\n",
    "           pd.DataFrame(sim2.get_results().mean()).transpose(),\n",
    "           pd.DataFrame(sim3.get_results().mean()).transpose(),\n",
    "           pd.DataFrame(sim4.get_results().mean()).transpose(),\n",
    "           pd.DataFrame(sim5.get_results().mean()).transpose(),\n",
    "           pd.DataFrame(sim6.get_results().mean()).transpose(),\n",
    "          ])\n",
    "res['m'] = np.arange(3,10)\n",
    "# res"
   ]
  },
  {
   "cell_type": "code",
   "execution_count": 11,
   "metadata": {
    "scrolled": true
   },
   "outputs": [],
   "source": [
    "# variance\n",
    "res2 = pd.concat([pd.DataFrame(sim7.get_results().std()).transpose(),\n",
    "           pd.DataFrame(sim.get_results().std()).transpose(),\n",
    "           pd.DataFrame(sim2.get_results().std()).transpose(),\n",
    "           pd.DataFrame(sim3.get_results().std()).transpose(),\n",
    "           pd.DataFrame(sim4.get_results().std()).transpose(),\n",
    "           pd.DataFrame(sim5.get_results().std()).transpose(),\n",
    "           pd.DataFrame(sim6.get_results().std()).transpose(),\n",
    "          ])\n",
    "res2['m'] = np.arange(3,10)\n",
    "# res"
   ]
  },
  {
   "cell_type": "code",
   "execution_count": 12,
   "metadata": {},
   "outputs": [
    {
     "data": {
      "text/html": [
       "<div>\n",
       "<table border=\"1\" class=\"dataframe\">\n",
       "  <thead>\n",
       "    <tr style=\"text-align: right;\">\n",
       "      <th></th>\n",
       "      <th>undef_champ</th>\n",
       "      <th>top_champ</th>\n",
       "      <th>top_k_found</th>\n",
       "      <th>precision</th>\n",
       "      <th>precision_at_k</th>\n",
       "      <th>avg_prec</th>\n",
       "      <th>dcg</th>\n",
       "      <th>ndcg</th>\n",
       "      <th>tau</th>\n",
       "      <th>rho</th>\n",
       "      <th>m</th>\n",
       "    </tr>\n",
       "  </thead>\n",
       "  <tbody>\n",
       "    <tr>\n",
       "      <th>0</th>\n",
       "      <td>0.490000</td>\n",
       "      <td>0.510000</td>\n",
       "      <td>0.459125</td>\n",
       "      <td>2.580645e-01</td>\n",
       "      <td>0.3125</td>\n",
       "      <td>2.921119e-01</td>\n",
       "      <td>1.845897e+00</td>\n",
       "      <td>2.690283e-01</td>\n",
       "      <td>0.419104</td>\n",
       "      <td>0.566363</td>\n",
       "      <td>3</td>\n",
       "    </tr>\n",
       "    <tr>\n",
       "      <th>0</th>\n",
       "      <td>0.710000</td>\n",
       "      <td>0.710000</td>\n",
       "      <td>0.987375</td>\n",
       "      <td>2.580645e-01</td>\n",
       "      <td>0.4375</td>\n",
       "      <td>4.146698e-01</td>\n",
       "      <td>2.891495e+00</td>\n",
       "      <td>4.214179e-01</td>\n",
       "      <td>0.458513</td>\n",
       "      <td>0.584329</td>\n",
       "      <td>4</td>\n",
       "    </tr>\n",
       "    <tr>\n",
       "      <th>0</th>\n",
       "      <td>0.756000</td>\n",
       "      <td>0.756000</td>\n",
       "      <td>0.873250</td>\n",
       "      <td>2.580645e-01</td>\n",
       "      <td>0.4375</td>\n",
       "      <td>3.875350e-01</td>\n",
       "      <td>2.638584e+00</td>\n",
       "      <td>3.845577e-01</td>\n",
       "      <td>0.357028</td>\n",
       "      <td>0.465690</td>\n",
       "      <td>5</td>\n",
       "    </tr>\n",
       "    <tr>\n",
       "      <th>0</th>\n",
       "      <td>0.410000</td>\n",
       "      <td>0.410000</td>\n",
       "      <td>0.871375</td>\n",
       "      <td>2.500000e-01</td>\n",
       "      <td>0.3125</td>\n",
       "      <td>2.397944e-01</td>\n",
       "      <td>1.684322e+00</td>\n",
       "      <td>2.454797e-01</td>\n",
       "      <td>0.472967</td>\n",
       "      <td>0.616840</td>\n",
       "      <td>6</td>\n",
       "    </tr>\n",
       "    <tr>\n",
       "      <th>0</th>\n",
       "      <td>0.326000</td>\n",
       "      <td>0.326000</td>\n",
       "      <td>0.748000</td>\n",
       "      <td>2.758621e-01</td>\n",
       "      <td>0.2500</td>\n",
       "      <td>3.488175e-01</td>\n",
       "      <td>2.198938e+00</td>\n",
       "      <td>3.204819e-01</td>\n",
       "      <td>0.440093</td>\n",
       "      <td>0.586581</td>\n",
       "      <td>7</td>\n",
       "    </tr>\n",
       "    <tr>\n",
       "      <th>0</th>\n",
       "      <td>0.546000</td>\n",
       "      <td>0.548000</td>\n",
       "      <td>0.861500</td>\n",
       "      <td>2.857143e-01</td>\n",
       "      <td>0.1250</td>\n",
       "      <td>3.022612e-01</td>\n",
       "      <td>1.630930e+00</td>\n",
       "      <td>2.376982e-01</td>\n",
       "      <td>0.567612</td>\n",
       "      <td>0.726235</td>\n",
       "      <td>8</td>\n",
       "    </tr>\n",
       "    <tr>\n",
       "      <th>0</th>\n",
       "      <td>0.408000</td>\n",
       "      <td>0.414000</td>\n",
       "      <td>0.645375</td>\n",
       "      <td>2.622951e-01</td>\n",
       "      <td>0.1250</td>\n",
       "      <td>1.923368e-01</td>\n",
       "      <td>6.045297e-01</td>\n",
       "      <td>8.810655e-02</td>\n",
       "      <td>0.516133</td>\n",
       "      <td>0.679175</td>\n",
       "      <td>9</td>\n",
       "    </tr>\n",
       "    <tr>\n",
       "      <th>0</th>\n",
       "      <td>0.500401</td>\n",
       "      <td>0.500401</td>\n",
       "      <td>0.092251</td>\n",
       "      <td>3.222871e-15</td>\n",
       "      <td>0.0000</td>\n",
       "      <td>1.667002e-15</td>\n",
       "      <td>8.446145e-15</td>\n",
       "      <td>1.000201e-15</td>\n",
       "      <td>0.040662</td>\n",
       "      <td>0.044037</td>\n",
       "      <td>3</td>\n",
       "    </tr>\n",
       "    <tr>\n",
       "      <th>0</th>\n",
       "      <td>0.454216</td>\n",
       "      <td>0.454216</td>\n",
       "      <td>0.026631</td>\n",
       "      <td>3.222871e-15</td>\n",
       "      <td>0.0000</td>\n",
       "      <td>4.445340e-15</td>\n",
       "      <td>2.533844e-14</td>\n",
       "      <td>2.389370e-15</td>\n",
       "      <td>0.057994</td>\n",
       "      <td>0.067118</td>\n",
       "      <td>4</td>\n",
       "    </tr>\n",
       "    <tr>\n",
       "      <th>0</th>\n",
       "      <td>0.429923</td>\n",
       "      <td>0.429923</td>\n",
       "      <td>0.068168</td>\n",
       "      <td>3.222871e-15</td>\n",
       "      <td>0.0000</td>\n",
       "      <td>3.611838e-15</td>\n",
       "      <td>2.267123e-14</td>\n",
       "      <td>2.833904e-15</td>\n",
       "      <td>0.053950</td>\n",
       "      <td>0.065157</td>\n",
       "      <td>5</td>\n",
       "    </tr>\n",
       "    <tr>\n",
       "      <th>0</th>\n",
       "      <td>0.492326</td>\n",
       "      <td>0.492326</td>\n",
       "      <td>0.079694</td>\n",
       "      <td>0.000000e+00</td>\n",
       "      <td>0.0000</td>\n",
       "      <td>1.305819e-15</td>\n",
       "      <td>7.334810e-15</td>\n",
       "      <td>1.778136e-15</td>\n",
       "      <td>0.046769</td>\n",
       "      <td>0.054562</td>\n",
       "      <td>6</td>\n",
       "    </tr>\n",
       "    <tr>\n",
       "      <th>0</th>\n",
       "      <td>0.469217</td>\n",
       "      <td>0.469217</td>\n",
       "      <td>0.077814</td>\n",
       "      <td>2.778337e-15</td>\n",
       "      <td>0.0000</td>\n",
       "      <td>2.556070e-15</td>\n",
       "      <td>9.779747e-15</td>\n",
       "      <td>3.334005e-16</td>\n",
       "      <td>0.042956</td>\n",
       "      <td>0.048717</td>\n",
       "      <td>7</td>\n",
       "    </tr>\n",
       "    <tr>\n",
       "      <th>0</th>\n",
       "      <td>0.498378</td>\n",
       "      <td>0.498189</td>\n",
       "      <td>0.078971</td>\n",
       "      <td>1.555869e-15</td>\n",
       "      <td>0.0000</td>\n",
       "      <td>8.890679e-16</td>\n",
       "      <td>8.001611e-15</td>\n",
       "      <td>1.917053e-15</td>\n",
       "      <td>0.032063</td>\n",
       "      <td>0.032867</td>\n",
       "      <td>8</td>\n",
       "    </tr>\n",
       "    <tr>\n",
       "      <th>0</th>\n",
       "      <td>0.491955</td>\n",
       "      <td>0.493042</td>\n",
       "      <td>0.089351</td>\n",
       "      <td>2.444937e-15</td>\n",
       "      <td>0.0000</td>\n",
       "      <td>2.361587e-15</td>\n",
       "      <td>3.334005e-16</td>\n",
       "      <td>6.529093e-16</td>\n",
       "      <td>0.031145</td>\n",
       "      <td>0.032318</td>\n",
       "      <td>9</td>\n",
       "    </tr>\n",
       "  </tbody>\n",
       "</table>\n",
       "</div>"
      ],
      "text/plain": [
       "   undef_champ  top_champ  top_k_found     precision  precision_at_k  \\\n",
       "0     0.490000   0.510000     0.459125  2.580645e-01          0.3125   \n",
       "0     0.710000   0.710000     0.987375  2.580645e-01          0.4375   \n",
       "0     0.756000   0.756000     0.873250  2.580645e-01          0.4375   \n",
       "0     0.410000   0.410000     0.871375  2.500000e-01          0.3125   \n",
       "0     0.326000   0.326000     0.748000  2.758621e-01          0.2500   \n",
       "0     0.546000   0.548000     0.861500  2.857143e-01          0.1250   \n",
       "0     0.408000   0.414000     0.645375  2.622951e-01          0.1250   \n",
       "0     0.500401   0.500401     0.092251  3.222871e-15          0.0000   \n",
       "0     0.454216   0.454216     0.026631  3.222871e-15          0.0000   \n",
       "0     0.429923   0.429923     0.068168  3.222871e-15          0.0000   \n",
       "0     0.492326   0.492326     0.079694  0.000000e+00          0.0000   \n",
       "0     0.469217   0.469217     0.077814  2.778337e-15          0.0000   \n",
       "0     0.498378   0.498189     0.078971  1.555869e-15          0.0000   \n",
       "0     0.491955   0.493042     0.089351  2.444937e-15          0.0000   \n",
       "\n",
       "       avg_prec           dcg          ndcg       tau       rho  m  \n",
       "0  2.921119e-01  1.845897e+00  2.690283e-01  0.419104  0.566363  3  \n",
       "0  4.146698e-01  2.891495e+00  4.214179e-01  0.458513  0.584329  4  \n",
       "0  3.875350e-01  2.638584e+00  3.845577e-01  0.357028  0.465690  5  \n",
       "0  2.397944e-01  1.684322e+00  2.454797e-01  0.472967  0.616840  6  \n",
       "0  3.488175e-01  2.198938e+00  3.204819e-01  0.440093  0.586581  7  \n",
       "0  3.022612e-01  1.630930e+00  2.376982e-01  0.567612  0.726235  8  \n",
       "0  1.923368e-01  6.045297e-01  8.810655e-02  0.516133  0.679175  9  \n",
       "0  1.667002e-15  8.446145e-15  1.000201e-15  0.040662  0.044037  3  \n",
       "0  4.445340e-15  2.533844e-14  2.389370e-15  0.057994  0.067118  4  \n",
       "0  3.611838e-15  2.267123e-14  2.833904e-15  0.053950  0.065157  5  \n",
       "0  1.305819e-15  7.334810e-15  1.778136e-15  0.046769  0.054562  6  \n",
       "0  2.556070e-15  9.779747e-15  3.334005e-16  0.042956  0.048717  7  \n",
       "0  8.890679e-16  8.001611e-15  1.917053e-15  0.032063  0.032867  8  \n",
       "0  2.361587e-15  3.334005e-16  6.529093e-16  0.031145  0.032318  9  "
      ]
     },
     "execution_count": 12,
     "metadata": {},
     "output_type": "execute_result"
    }
   ],
   "source": [
    "pd.concat([res,res2])"
   ]
  },
  {
   "cell_type": "code",
   "execution_count": null,
   "metadata": {
    "collapsed": true
   },
   "outputs": [],
   "source": []
  },
  {
   "cell_type": "code",
   "execution_count": null,
   "metadata": {
    "collapsed": true
   },
   "outputs": [],
   "source": []
  }
 ],
 "metadata": {
  "anaconda-cloud": {},
  "kernelspec": {
   "display_name": "Python [conda root]",
   "language": "python",
   "name": "conda-root-py"
  },
  "language_info": {
   "codemirror_mode": {
    "name": "ipython",
    "version": 3
   },
   "file_extension": ".py",
   "mimetype": "text/x-python",
   "name": "python",
   "nbconvert_exporter": "python",
   "pygments_lexer": "ipython3",
   "version": "3.5.2"
  }
 },
 "nbformat": 4,
 "nbformat_minor": 1
}
