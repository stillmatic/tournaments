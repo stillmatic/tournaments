{
 "cells": [
  {
   "cell_type": "markdown",
   "metadata": {},
   "source": [
    "effect of # of rounds on a 'medium size' tournament"
   ]
  },
  {
   "cell_type": "code",
   "execution_count": 1,
   "metadata": {
    "collapsed": true
   },
   "outputs": [],
   "source": [
    "from tournament import Tournament, Simulation\n",
    "from random import seed\n",
    "import pandas as pd\n",
    "import numpy as np\n",
    "\n",
    "rand_var = True\n",
    "dist_var = 'exp'\n"
   ]
  },
  {
   "cell_type": "code",
   "execution_count": 2,
   "metadata": {
    "collapsed": true
   },
   "outputs": [],
   "source": [
    "# 4 rounds\n",
    "sim = Simulation(64, 4, 500,  **{'dist': dist_var, 'k': 16, 'random': rand_var})\n",
    "sim.simulate()"
   ]
  },
  {
   "cell_type": "code",
   "execution_count": 3,
   "metadata": {
    "collapsed": true
   },
   "outputs": [],
   "source": [
    "# 5 rounds\n",
    "sim2 = Simulation(64, 5, 500,  **{'dist': dist_var, 'k': 16, 'random': rand_var})\n",
    "sim2.simulate()"
   ]
  },
  {
   "cell_type": "code",
   "execution_count": 4,
   "metadata": {
    "collapsed": true
   },
   "outputs": [],
   "source": [
    "# 6 rounds\n",
    "sim3 = Simulation(64, 6, 500,  **{'dist': dist_var, 'k': 16, 'random': rand_var})\n",
    "sim3.simulate()"
   ]
  },
  {
   "cell_type": "code",
   "execution_count": null,
   "metadata": {
    "collapsed": true
   },
   "outputs": [],
   "source": [
    "# 7 rounds\n",
    "sim4 = Simulation(64, 7, 500,  **{'dist': dist_var, 'k': 16, 'random': rand_var})\n",
    "sim4.simulate()"
   ]
  },
  {
   "cell_type": "code",
   "execution_count": null,
   "metadata": {
    "collapsed": true
   },
   "outputs": [],
   "source": [
    "# 8 rounds\n",
    "sim5 = Simulation(64, 8, 500,  **{'dist': dist_var, 'k': 16, 'random': rand_var})\n",
    "sim5.simulate()"
   ]
  },
  {
   "cell_type": "code",
   "execution_count": null,
   "metadata": {
    "collapsed": true
   },
   "outputs": [],
   "source": [
    "# 9 rounds\n",
    "sim6 = Simulation(64, 9, 500,  **{'dist': dist_var, 'k': 16, 'random': rand_var})\n",
    "sim6.simulate()"
   ]
  },
  {
   "cell_type": "code",
   "execution_count": null,
   "metadata": {
    "collapsed": true
   },
   "outputs": [],
   "source": [
    "# 3 rounds\n",
    "sim7 = Simulation(64, 3, 500,  **{'dist': dist_var, 'k': 16, 'random': rand_var})\n",
    "sim7.simulate()"
   ]
  },
  {
   "cell_type": "markdown",
   "metadata": {},
   "source": [
    "conglomerated results follow"
   ]
  },
  {
   "cell_type": "code",
   "execution_count": null,
   "metadata": {
    "collapsed": true
   },
   "outputs": [],
   "source": [
    "# mean\n",
    "res = pd.concat([pd.DataFrame(sim7.get_results().mean()).transpose(),\n",
    "           pd.DataFrame(sim.get_results().mean()).transpose(),\n",
    "           pd.DataFrame(sim2.get_results().mean()).transpose(),\n",
    "           pd.DataFrame(sim3.get_results().mean()).transpose(),\n",
    "           pd.DataFrame(sim4.get_results().mean()).transpose(),\n",
    "           pd.DataFrame(sim5.get_results().mean()).transpose(),\n",
    "           pd.DataFrame(sim6.get_results().mean()).transpose(),\n",
    "          ])\n",
    "res['m'] = np.arange(3,10)"
   ]
  },
  {
   "cell_type": "code",
   "execution_count": null,
   "metadata": {
    "collapsed": true
   },
   "outputs": [],
   "source": [
    "# variance\n",
    "res2 = pd.concat([pd.DataFrame(sim7.get_results().std()).transpose(),\n",
    "           pd.DataFrame(sim.get_results().std()).transpose(),\n",
    "           pd.DataFrame(sim2.get_results().std()).transpose(),\n",
    "           pd.DataFrame(sim3.get_results().std()).transpose(),\n",
    "           pd.DataFrame(sim4.get_results().std()).transpose(),\n",
    "           pd.DataFrame(sim5.get_results().std()).transpose(),\n",
    "           pd.DataFrame(sim6.get_results().std()).transpose(),\n",
    "          ])\n",
    "res2['m'] = np.arange(3,10)"
   ]
  },
  {
   "cell_type": "code",
   "execution_count": null,
   "metadata": {},
   "outputs": [],
   "source": [
    "pd.concat([res,res2])"
   ]
  }
 ],
 "metadata": {
  "anaconda-cloud": {},
  "kernelspec": {
   "display_name": "Python [conda root]",
   "language": "python",
   "name": "conda-root-py"
  },
  "language_info": {
   "codemirror_mode": {
    "name": "ipython",
    "version": 3
   },
   "file_extension": ".py",
   "mimetype": "text/x-python",
   "name": "python",
   "nbconvert_exporter": "python",
   "pygments_lexer": "ipython3",
   "version": "3.5.2"
  }
 },
 "nbformat": 4,
 "nbformat_minor": 1
}
