{
 "cells": [
  {
   "cell_type": "code",
   "execution_count": 1,
   "metadata": {
    "collapsed": true
   },
   "outputs": [],
   "source": [
    "from tournament import Tournament, Simulation\n",
    "from random import seed\n",
    "import pandas as pd\n",
    "import numpy as np\n",
    "\n",
    "rand_var = False\n",
    "# dist_var = 'lognorm'\n",
    "n = 64"
   ]
  },
  {
   "cell_type": "code",
   "execution_count": 2,
   "metadata": {
    "collapsed": true
   },
   "outputs": [],
   "source": [
    "emp_vals = pd.read_csv(\"data/bt_pi_09.csv\")"
   ]
  },
  {
   "cell_type": "markdown",
   "metadata": {},
   "source": [
    "Effect of rounds on medium size tournament, using empirical strengths."
   ]
  },
  {
   "cell_type": "code",
   "execution_count": 3,
   "metadata": {
    "collapsed": true
   },
   "outputs": [],
   "source": [
    "# small\n",
    "sim = Simulation(32, 6, 500,  **{'strengths': emp_vals.x, 'k': 8, 'random': rand_var})\n",
    "sim.simulate()\n"
   ]
  },
  {
   "cell_type": "code",
   "execution_count": 4,
   "metadata": {
    "collapsed": true,
    "scrolled": true
   },
   "outputs": [],
   "source": [
    "# medium\n",
    "sim2 = Simulation(64, 6, 500,  **{'strengths': emp_vals.x, 'k': 16, 'random': rand_var})\n",
    "sim2.simulate()\n"
   ]
  },
  {
   "cell_type": "code",
   "execution_count": 5,
   "metadata": {
    "collapsed": true
   },
   "outputs": [],
   "source": [
    "# large\n",
    "sim3 = Simulation(128, 6, 500,  **{'strengths': emp_vals.x, 'k': 32, 'random': rand_var})\n",
    "sim3.simulate()\n"
   ]
  },
  {
   "cell_type": "code",
   "execution_count": 6,
   "metadata": {
    "collapsed": true
   },
   "outputs": [],
   "source": [
    "# huge\n",
    "sim4 = Simulation(256, 6, 500,  **{'strengths': emp_vals.x, 'k': 64, 'random': rand_var})\n",
    "sim4.simulate()\n"
   ]
  },
  {
   "cell_type": "code",
   "execution_count": 7,
   "metadata": {
    "collapsed": true
   },
   "outputs": [],
   "source": [
    "# mean\n",
    "res = pd.concat([\n",
    "           pd.DataFrame(sim.get_results().mean()).transpose(),\n",
    "           pd.DataFrame(sim2.get_results().mean()).transpose(),\n",
    "           pd.DataFrame(sim3.get_results().mean()).transpose(),\n",
    "           pd.DataFrame(sim4.get_results().mean()).transpose()\n",
    "          ])\n",
    "res['n'] = ['32','64','128','256']"
   ]
  },
  {
   "cell_type": "code",
   "execution_count": 8,
   "metadata": {},
   "outputs": [
    {
     "data": {
      "text/html": [
       "<div>\n",
       "<table border=\"1\" class=\"dataframe\">\n",
       "  <thead>\n",
       "    <tr style=\"text-align: right;\">\n",
       "      <th></th>\n",
       "      <th>undef_champ</th>\n",
       "      <th>top_champ</th>\n",
       "      <th>top_k_found</th>\n",
       "      <th>precision</th>\n",
       "      <th>precision_at_k</th>\n",
       "      <th>avg_prec</th>\n",
       "      <th>dcg</th>\n",
       "      <th>ndcg</th>\n",
       "      <th>tau</th>\n",
       "      <th>rho</th>\n",
       "      <th>n</th>\n",
       "    </tr>\n",
       "  </thead>\n",
       "  <tbody>\n",
       "    <tr>\n",
       "      <th>0</th>\n",
       "      <td>0.920000</td>\n",
       "      <td>0.922000</td>\n",
       "      <td>0.802500</td>\n",
       "      <td>2.857143e-01</td>\n",
       "      <td>0.125000</td>\n",
       "      <td>2.416412e-01</td>\n",
       "      <td>3.333333e-01</td>\n",
       "      <td>7.187006e-02</td>\n",
       "      <td>0.511412</td>\n",
       "      <td>0.654469</td>\n",
       "      <td>32</td>\n",
       "    </tr>\n",
       "    <tr>\n",
       "      <th>0</th>\n",
       "      <td>0.714000</td>\n",
       "      <td>0.714000</td>\n",
       "      <td>0.752500</td>\n",
       "      <td>2.500000e-01</td>\n",
       "      <td>0.312500</td>\n",
       "      <td>3.517980e-01</td>\n",
       "      <td>2.839291e+00</td>\n",
       "      <td>4.138096e-01</td>\n",
       "      <td>0.468434</td>\n",
       "      <td>0.610960</td>\n",
       "      <td>64</td>\n",
       "    </tr>\n",
       "    <tr>\n",
       "      <th>0</th>\n",
       "      <td>0.666000</td>\n",
       "      <td>0.666000</td>\n",
       "      <td>0.749188</td>\n",
       "      <td>2.519685e-01</td>\n",
       "      <td>0.187500</td>\n",
       "      <td>2.318682e-01</td>\n",
       "      <td>1.795298e+00</td>\n",
       "      <td>1.732649e-01</td>\n",
       "      <td>0.446751</td>\n",
       "      <td>0.587689</td>\n",
       "      <td>128</td>\n",
       "    </tr>\n",
       "    <tr>\n",
       "      <th>0</th>\n",
       "      <td>0.754000</td>\n",
       "      <td>0.754000</td>\n",
       "      <td>0.762656</td>\n",
       "      <td>2.500000e-01</td>\n",
       "      <td>0.171875</td>\n",
       "      <td>2.191070e-01</td>\n",
       "      <td>2.149929e+00</td>\n",
       "      <td>1.333816e-01</td>\n",
       "      <td>0.475997</td>\n",
       "      <td>0.624664</td>\n",
       "      <td>256</td>\n",
       "    </tr>\n",
       "    <tr>\n",
       "      <th>0</th>\n",
       "      <td>0.271565</td>\n",
       "      <td>0.268440</td>\n",
       "      <td>0.084827</td>\n",
       "      <td>1.555869e-15</td>\n",
       "      <td>0.000000</td>\n",
       "      <td>2.611637e-15</td>\n",
       "      <td>7.223677e-16</td>\n",
       "      <td>1.667002e-16</td>\n",
       "      <td>0.047624</td>\n",
       "      <td>0.051544</td>\n",
       "      <td>32</td>\n",
       "    </tr>\n",
       "    <tr>\n",
       "      <th>0</th>\n",
       "      <td>0.452342</td>\n",
       "      <td>0.452342</td>\n",
       "      <td>0.077699</td>\n",
       "      <td>0.000000e+00</td>\n",
       "      <td>0.000000</td>\n",
       "      <td>2.611637e-15</td>\n",
       "      <td>2.889471e-14</td>\n",
       "      <td>2.945038e-15</td>\n",
       "      <td>0.042373</td>\n",
       "      <td>0.048971</td>\n",
       "      <td>64</td>\n",
       "    </tr>\n",
       "    <tr>\n",
       "      <th>0</th>\n",
       "      <td>0.472112</td>\n",
       "      <td>0.472112</td>\n",
       "      <td>0.052056</td>\n",
       "      <td>3.889672e-16</td>\n",
       "      <td>0.000000</td>\n",
       "      <td>1.333602e-15</td>\n",
       "      <td>1.000201e-14</td>\n",
       "      <td>4.445340e-16</td>\n",
       "      <td>0.040680</td>\n",
       "      <td>0.044537</td>\n",
       "      <td>128</td>\n",
       "    </tr>\n",
       "    <tr>\n",
       "      <th>0</th>\n",
       "      <td>0.431110</td>\n",
       "      <td>0.431110</td>\n",
       "      <td>0.046833</td>\n",
       "      <td>0.000000e+00</td>\n",
       "      <td>0.000000</td>\n",
       "      <td>1.139118e-15</td>\n",
       "      <td>2.267123e-14</td>\n",
       "      <td>0.000000e+00</td>\n",
       "      <td>0.052767</td>\n",
       "      <td>0.053733</td>\n",
       "      <td>256</td>\n",
       "    </tr>\n",
       "  </tbody>\n",
       "</table>\n",
       "</div>"
      ],
      "text/plain": [
       "   undef_champ  top_champ  top_k_found     precision  precision_at_k  \\\n",
       "0     0.920000   0.922000     0.802500  2.857143e-01        0.125000   \n",
       "0     0.714000   0.714000     0.752500  2.500000e-01        0.312500   \n",
       "0     0.666000   0.666000     0.749188  2.519685e-01        0.187500   \n",
       "0     0.754000   0.754000     0.762656  2.500000e-01        0.171875   \n",
       "0     0.271565   0.268440     0.084827  1.555869e-15        0.000000   \n",
       "0     0.452342   0.452342     0.077699  0.000000e+00        0.000000   \n",
       "0     0.472112   0.472112     0.052056  3.889672e-16        0.000000   \n",
       "0     0.431110   0.431110     0.046833  0.000000e+00        0.000000   \n",
       "\n",
       "       avg_prec           dcg          ndcg       tau       rho    n  \n",
       "0  2.416412e-01  3.333333e-01  7.187006e-02  0.511412  0.654469   32  \n",
       "0  3.517980e-01  2.839291e+00  4.138096e-01  0.468434  0.610960   64  \n",
       "0  2.318682e-01  1.795298e+00  1.732649e-01  0.446751  0.587689  128  \n",
       "0  2.191070e-01  2.149929e+00  1.333816e-01  0.475997  0.624664  256  \n",
       "0  2.611637e-15  7.223677e-16  1.667002e-16  0.047624  0.051544   32  \n",
       "0  2.611637e-15  2.889471e-14  2.945038e-15  0.042373  0.048971   64  \n",
       "0  1.333602e-15  1.000201e-14  4.445340e-16  0.040680  0.044537  128  \n",
       "0  1.139118e-15  2.267123e-14  0.000000e+00  0.052767  0.053733  256  "
      ]
     },
     "execution_count": 8,
     "metadata": {},
     "output_type": "execute_result"
    }
   ],
   "source": [
    "# variance\n",
    "res2 = pd.concat([\n",
    "           pd.DataFrame(sim.get_results().std()).transpose(),\n",
    "           pd.DataFrame(sim2.get_results().std()).transpose(),\n",
    "           pd.DataFrame(sim3.get_results().std()).transpose(),\n",
    "           pd.DataFrame(sim4.get_results().std()).transpose()\n",
    "          ])\n",
    "res2['n'] = ['32','64','128','256']\n",
    "pd.concat([res,res2])"
   ]
  }
 ],
 "metadata": {
  "anaconda-cloud": {},
  "kernelspec": {
   "display_name": "Python [conda root]",
   "language": "python",
   "name": "conda-root-py"
  },
  "language_info": {
   "codemirror_mode": {
    "name": "ipython",
    "version": 3
   },
   "file_extension": ".py",
   "mimetype": "text/x-python",
   "name": "python",
   "nbconvert_exporter": "python",
   "pygments_lexer": "ipython3",
   "version": "3.5.2"
  }
 },
 "nbformat": 4,
 "nbformat_minor": 1
}
