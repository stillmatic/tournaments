{
 "cells": [
  {
   "cell_type": "markdown",
   "metadata": {},
   "source": [
    "effect of distribution on 'medium size' tournament"
   ]
  },
  {
   "cell_type": "code",
   "execution_count": 1,
   "metadata": {
    "collapsed": true
   },
   "outputs": [],
   "source": [
    "from tournament import Tournament, Simulation\n",
    "from random import seed\n",
    "import pandas as pd\n",
    "import numpy as np\n",
    "\n",
    "rand_var = True\n"
   ]
  },
  {
   "cell_type": "code",
   "execution_count": 2,
   "metadata": {
    "collapsed": true
   },
   "outputs": [],
   "source": [
    "# lognorm\n",
    "np.random.seed(1)\n",
    "sim = Simulation(64, 6, 500,  **{'dist': 'lognorm', 'k': 16, 'random': rand_var})\n",
    "sim.simulate()"
   ]
  },
  {
   "cell_type": "code",
   "execution_count": 3,
   "metadata": {
    "collapsed": true
   },
   "outputs": [],
   "source": [
    "# exponential\n",
    "np.random.seed(1)\n",
    "sim2 = Simulation(64, 6, 500,  **{'dist': 'exp', 'k': 16, 'random': rand_var})\n",
    "sim2.simulate()"
   ]
  },
  {
   "cell_type": "code",
   "execution_count": 4,
   "metadata": {
    "collapsed": true
   },
   "outputs": [],
   "source": [
    "# beta\n",
    "np.random.seed(1)\n",
    "sim3 = Simulation(64, 6, 500,  **{'dist': 'beta', 'k': 16, 'random': rand_var})\n",
    "sim3.simulate()"
   ]
  },
  {
   "cell_type": "code",
   "execution_count": 5,
   "metadata": {
    "collapsed": true
   },
   "outputs": [],
   "source": [
    "# gamma\n",
    "np.random.seed(1)\n",
    "sim4 = Simulation(64, 6, 500,  **{'dist': 'gamma', 'k': 16, 'random': rand_var})\n",
    "sim4.simulate()"
   ]
  },
  {
   "cell_type": "code",
   "execution_count": 6,
   "metadata": {
    "collapsed": true
   },
   "outputs": [],
   "source": [
    "# uniform\n",
    "np.random.seed(1)\n",
    "sim5 = Simulation(64, 6, 500,  **{'dist': 'unif', 'k': 16, 'random': rand_var})\n",
    "sim5.simulate()"
   ]
  },
  {
   "cell_type": "markdown",
   "metadata": {},
   "source": [
    "conglomerated results follow"
   ]
  },
  {
   "cell_type": "code",
   "execution_count": 7,
   "metadata": {},
   "outputs": [
    {
     "data": {
      "text/html": [
       "<div>\n",
       "<table border=\"1\" class=\"dataframe\">\n",
       "  <thead>\n",
       "    <tr style=\"text-align: right;\">\n",
       "      <th></th>\n",
       "      <th>undef_champ</th>\n",
       "      <th>top_champ</th>\n",
       "      <th>top_k_found</th>\n",
       "      <th>precision</th>\n",
       "      <th>precision_at_k</th>\n",
       "      <th>avg_prec</th>\n",
       "      <th>dcg</th>\n",
       "      <th>ndcg</th>\n",
       "      <th>tau</th>\n",
       "      <th>rho</th>\n",
       "      <th>dist</th>\n",
       "    </tr>\n",
       "  </thead>\n",
       "  <tbody>\n",
       "    <tr>\n",
       "      <th>0</th>\n",
       "      <td>0.246</td>\n",
       "      <td>0.246</td>\n",
       "      <td>0.696875</td>\n",
       "      <td>0.250000</td>\n",
       "      <td>0.1250</td>\n",
       "      <td>0.221395</td>\n",
       "      <td>0.657237</td>\n",
       "      <td>0.095788</td>\n",
       "      <td>0.426720</td>\n",
       "      <td>0.564583</td>\n",
       "      <td>Lognormal</td>\n",
       "    </tr>\n",
       "    <tr>\n",
       "      <th>0</th>\n",
       "      <td>0.288</td>\n",
       "      <td>0.288</td>\n",
       "      <td>0.758750</td>\n",
       "      <td>0.253968</td>\n",
       "      <td>0.0625</td>\n",
       "      <td>0.208301</td>\n",
       "      <td>0.430677</td>\n",
       "      <td>0.062769</td>\n",
       "      <td>0.503128</td>\n",
       "      <td>0.653872</td>\n",
       "      <td>Exponential</td>\n",
       "    </tr>\n",
       "    <tr>\n",
       "      <th>0</th>\n",
       "      <td>0.158</td>\n",
       "      <td>0.188</td>\n",
       "      <td>0.523500</td>\n",
       "      <td>0.258065</td>\n",
       "      <td>0.3750</td>\n",
       "      <td>0.406498</td>\n",
       "      <td>3.405460</td>\n",
       "      <td>0.496325</td>\n",
       "      <td>0.272257</td>\n",
       "      <td>0.363190</td>\n",
       "      <td>Beta</td>\n",
       "    </tr>\n",
       "    <tr>\n",
       "      <th>0</th>\n",
       "      <td>0.074</td>\n",
       "      <td>0.074</td>\n",
       "      <td>0.612625</td>\n",
       "      <td>0.253968</td>\n",
       "      <td>0.3125</td>\n",
       "      <td>0.444603</td>\n",
       "      <td>3.165796</td>\n",
       "      <td>0.461396</td>\n",
       "      <td>0.416036</td>\n",
       "      <td>0.548449</td>\n",
       "      <td>Gamma</td>\n",
       "    </tr>\n",
       "    <tr>\n",
       "      <th>0</th>\n",
       "      <td>0.038</td>\n",
       "      <td>0.040</td>\n",
       "      <td>0.622500</td>\n",
       "      <td>0.271186</td>\n",
       "      <td>0.1875</td>\n",
       "      <td>0.287929</td>\n",
       "      <td>1.317529</td>\n",
       "      <td>0.192022</td>\n",
       "      <td>0.321905</td>\n",
       "      <td>0.432334</td>\n",
       "      <td>Uniform</td>\n",
       "    </tr>\n",
       "  </tbody>\n",
       "</table>\n",
       "</div>"
      ],
      "text/plain": [
       "   undef_champ  top_champ  top_k_found  precision  precision_at_k  avg_prec  \\\n",
       "0        0.246      0.246     0.696875   0.250000          0.1250  0.221395   \n",
       "0        0.288      0.288     0.758750   0.253968          0.0625  0.208301   \n",
       "0        0.158      0.188     0.523500   0.258065          0.3750  0.406498   \n",
       "0        0.074      0.074     0.612625   0.253968          0.3125  0.444603   \n",
       "0        0.038      0.040     0.622500   0.271186          0.1875  0.287929   \n",
       "\n",
       "        dcg      ndcg       tau       rho         dist  \n",
       "0  0.657237  0.095788  0.426720  0.564583    Lognormal  \n",
       "0  0.430677  0.062769  0.503128  0.653872  Exponential  \n",
       "0  3.405460  0.496325  0.272257  0.363190         Beta  \n",
       "0  3.165796  0.461396  0.416036  0.548449        Gamma  \n",
       "0  1.317529  0.192022  0.321905  0.432334      Uniform  "
      ]
     },
     "execution_count": 7,
     "metadata": {},
     "output_type": "execute_result"
    }
   ],
   "source": [
    "# mean\n",
    "res = pd.concat([pd.DataFrame(sim.get_results().mean()).transpose(),\n",
    "           pd.DataFrame(sim2.get_results().mean()).transpose(),\n",
    "           pd.DataFrame(sim3.get_results().mean()).transpose(),\n",
    "           pd.DataFrame(sim4.get_results().mean()).transpose(),\n",
    "           pd.DataFrame(sim5.get_results().mean()).transpose(),\n",
    "          ])\n",
    "res['dist'] = ['Lognormal', 'Exponential', 'Beta', 'Gamma', 'Uniform']\n",
    "res"
   ]
  },
  {
   "cell_type": "code",
   "execution_count": 8,
   "metadata": {},
   "outputs": [
    {
     "data": {
      "text/html": [
       "<div>\n",
       "<table border=\"1\" class=\"dataframe\">\n",
       "  <thead>\n",
       "    <tr style=\"text-align: right;\">\n",
       "      <th></th>\n",
       "      <th>undef_champ</th>\n",
       "      <th>top_champ</th>\n",
       "      <th>top_k_found</th>\n",
       "      <th>precision</th>\n",
       "      <th>precision_at_k</th>\n",
       "      <th>avg_prec</th>\n",
       "      <th>dcg</th>\n",
       "      <th>ndcg</th>\n",
       "      <th>tau</th>\n",
       "      <th>rho</th>\n",
       "      <th>dist</th>\n",
       "    </tr>\n",
       "  </thead>\n",
       "  <tbody>\n",
       "    <tr>\n",
       "      <th>0</th>\n",
       "      <td>0.431110</td>\n",
       "      <td>0.431110</td>\n",
       "      <td>0.079321</td>\n",
       "      <td>0.000000e+00</td>\n",
       "      <td>0.0</td>\n",
       "      <td>2.444937e-15</td>\n",
       "      <td>3.111738e-15</td>\n",
       "      <td>6.945843e-16</td>\n",
       "      <td>0.039011</td>\n",
       "      <td>0.046411</td>\n",
       "      <td>lognorm</td>\n",
       "    </tr>\n",
       "    <tr>\n",
       "      <th>0</th>\n",
       "      <td>0.453285</td>\n",
       "      <td>0.453285</td>\n",
       "      <td>0.071233</td>\n",
       "      <td>8.335012e-16</td>\n",
       "      <td>0.0</td>\n",
       "      <td>1.611436e-15</td>\n",
       "      <td>1.444735e-15</td>\n",
       "      <td>6.668009e-16</td>\n",
       "      <td>0.034935</td>\n",
       "      <td>0.038914</td>\n",
       "      <td>exp</td>\n",
       "    </tr>\n",
       "    <tr>\n",
       "      <th>0</th>\n",
       "      <td>0.365106</td>\n",
       "      <td>0.391103</td>\n",
       "      <td>0.105851</td>\n",
       "      <td>3.222871e-15</td>\n",
       "      <td>0.0</td>\n",
       "      <td>1.611436e-15</td>\n",
       "      <td>7.557077e-15</td>\n",
       "      <td>4.223073e-15</td>\n",
       "      <td>0.055067</td>\n",
       "      <td>0.071504</td>\n",
       "      <td>beta</td>\n",
       "    </tr>\n",
       "    <tr>\n",
       "      <th>0</th>\n",
       "      <td>0.262033</td>\n",
       "      <td>0.262033</td>\n",
       "      <td>0.079205</td>\n",
       "      <td>8.335012e-16</td>\n",
       "      <td>0.0</td>\n",
       "      <td>2.833904e-15</td>\n",
       "      <td>1.466962e-14</td>\n",
       "      <td>1.333602e-15</td>\n",
       "      <td>0.041774</td>\n",
       "      <td>0.051236</td>\n",
       "      <td>gamma</td>\n",
       "    </tr>\n",
       "    <tr>\n",
       "      <th>0</th>\n",
       "      <td>0.191388</td>\n",
       "      <td>0.196155</td>\n",
       "      <td>0.082867</td>\n",
       "      <td>1.111335e-16</td>\n",
       "      <td>0.0</td>\n",
       "      <td>1.833703e-15</td>\n",
       "      <td>3.778539e-15</td>\n",
       "      <td>1.805919e-15</td>\n",
       "      <td>0.046470</td>\n",
       "      <td>0.057276</td>\n",
       "      <td>unif</td>\n",
       "    </tr>\n",
       "  </tbody>\n",
       "</table>\n",
       "</div>"
      ],
      "text/plain": [
       "   undef_champ  top_champ  top_k_found     precision  precision_at_k  \\\n",
       "0     0.431110   0.431110     0.079321  0.000000e+00             0.0   \n",
       "0     0.453285   0.453285     0.071233  8.335012e-16             0.0   \n",
       "0     0.365106   0.391103     0.105851  3.222871e-15             0.0   \n",
       "0     0.262033   0.262033     0.079205  8.335012e-16             0.0   \n",
       "0     0.191388   0.196155     0.082867  1.111335e-16             0.0   \n",
       "\n",
       "       avg_prec           dcg          ndcg       tau       rho     dist  \n",
       "0  2.444937e-15  3.111738e-15  6.945843e-16  0.039011  0.046411  lognorm  \n",
       "0  1.611436e-15  1.444735e-15  6.668009e-16  0.034935  0.038914      exp  \n",
       "0  1.611436e-15  7.557077e-15  4.223073e-15  0.055067  0.071504     beta  \n",
       "0  2.833904e-15  1.466962e-14  1.333602e-15  0.041774  0.051236    gamma  \n",
       "0  1.833703e-15  3.778539e-15  1.805919e-15  0.046470  0.057276     unif  "
      ]
     },
     "execution_count": 8,
     "metadata": {},
     "output_type": "execute_result"
    }
   ],
   "source": [
    "# variance\n",
    "res = pd.concat([pd.DataFrame(sim.get_results().std()).transpose(),\n",
    "           pd.DataFrame(sim2.get_results().std()).transpose(),\n",
    "           pd.DataFrame(sim3.get_results().std()).transpose(),\n",
    "           pd.DataFrame(sim4.get_results().std()).transpose(),\n",
    "           pd.DataFrame(sim5.get_results().std()).transpose(),\n",
    "          ])\n",
    "res['dist'] = ['lognorm', 'exp', 'beta', 'gamma', 'unif']\n",
    "res"
   ]
  },
  {
   "cell_type": "code",
   "execution_count": null,
   "metadata": {
    "collapsed": true
   },
   "outputs": [],
   "source": []
  }
 ],
 "metadata": {
  "anaconda-cloud": {},
  "kernelspec": {
   "display_name": "Python [conda root]",
   "language": "python",
   "name": "conda-root-py"
  },
  "language_info": {
   "codemirror_mode": {
    "name": "ipython",
    "version": 3
   },
   "file_extension": ".py",
   "mimetype": "text/x-python",
   "name": "python",
   "nbconvert_exporter": "python",
   "pygments_lexer": "ipython3",
   "version": "3.5.2"
  }
 },
 "nbformat": 4,
 "nbformat_minor": 1
}
