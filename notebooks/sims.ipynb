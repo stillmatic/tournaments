{
 "cells": [
  {
   "cell_type": "code",
   "execution_count": 11,
   "metadata": {
    "collapsed": true
   },
   "outputs": [],
   "source": [
    "from tournament import Tournament, Simulation\n",
    "from random import seed\n",
    "import pandas as pd\n",
    "import numpy as np\n",
    "\n",
    "which = lambda lst:list(np.where(lst)[0])\n",
    "dist_var = 'exp'"
   ]
  },
  {
   "cell_type": "code",
   "execution_count": 12,
   "metadata": {},
   "outputs": [
    {
     "data": {
      "text/plain": [
       "undef_champ       0.198000\n",
       "top_champ         0.202000\n",
       "top_k_found       0.734500\n",
       "precision         0.250000\n",
       "precision_at_k    0.250000\n",
       "avg_prec          0.240365\n",
       "dcg               0.886853\n",
       "ndcg              0.191215\n",
       "tau               0.490770\n",
       "rho               0.645253\n",
       "dtype: float64"
      ]
     },
     "execution_count": 12,
     "metadata": {},
     "output_type": "execute_result"
    }
   ],
   "source": [
    "# small tournament\n",
    "seed(1)\n",
    "sim = Simulation(32, 6, 500, **{'dist': dist_var, 'k': 8})\n",
    "sim.simulate()\n",
    "sim.get_results().mean()"
   ]
  },
  {
   "cell_type": "code",
   "execution_count": null,
   "metadata": {},
   "outputs": [],
   "source": []
  },
  {
   "cell_type": "code",
   "execution_count": 13,
   "metadata": {},
   "outputs": [
    {
     "data": {
      "text/plain": [
       "undef_champ       0.230000\n",
       "top_champ         0.230000\n",
       "top_k_found       0.761000\n",
       "precision         0.137931\n",
       "precision_at_k    0.125000\n",
       "avg_prec          0.130514\n",
       "dcg               0.356207\n",
       "ndcg              0.076802\n",
       "tau               0.465368\n",
       "rho               0.602154\n",
       "dtype: float64"
      ]
     },
     "execution_count": 13,
     "metadata": {},
     "output_type": "execute_result"
    }
   ],
   "source": [
    "# medium tournament\n",
    "seed(2)\n",
    "sim2 = Simulation(64, 6, 500,  **{'dist': dist_var, 'k': 8})\n",
    "sim2.simulate()\n",
    "sim2.get_results().mean()"
   ]
  },
  {
   "cell_type": "code",
   "execution_count": 14,
   "metadata": {
    "scrolled": true
   },
   "outputs": [
    {
     "data": {
      "text/plain": [
       "undef_champ       0.850000\n",
       "top_champ         0.850000\n",
       "top_k_found       0.986500\n",
       "precision         0.067227\n",
       "precision_at_k    0.250000\n",
       "avg_prec          0.220983\n",
       "dcg               1.386853\n",
       "ndcg              0.299020\n",
       "tau               0.552047\n",
       "rho               0.713734\n",
       "dtype: float64"
      ]
     },
     "execution_count": 14,
     "metadata": {},
     "output_type": "execute_result"
    }
   ],
   "source": [
    "# large tournament\n",
    "seed(3)\n",
    "sim3 = Simulation(128, 6, 500, **{'dist': dist_var, 'k': 8})\n",
    "sim3.simulate()\n",
    "sim3.get_results().mean()"
   ]
  },
  {
   "cell_type": "code",
   "execution_count": 15,
   "metadata": {},
   "outputs": [
    {
     "data": {
      "text/plain": [
       "undef_champ       0.522000\n",
       "top_champ         0.522000\n",
       "top_k_found       0.885750\n",
       "precision         0.033333\n",
       "precision_at_k    0.000000\n",
       "avg_prec          0.024242\n",
       "dcg               0.000000\n",
       "ndcg              0.000000\n",
       "tau               0.516520\n",
       "rho               0.670263\n",
       "dtype: float64"
      ]
     },
     "execution_count": 15,
     "metadata": {},
     "output_type": "execute_result"
    }
   ],
   "source": [
    "# very large tournament\n",
    "seed(4)\n",
    "sim4 = Simulation(256, 6, 500, **{'dist': dist_var, 'k': 8})\n",
    "sim4.simulate()\n",
    "sim4.get_results().mean()"
   ]
  },
  {
   "cell_type": "code",
   "execution_count": 16,
   "metadata": {},
   "outputs": [
    {
     "data": {
      "text/plain": [
       "undef_champ       0.172000\n",
       "top_champ         0.178000\n",
       "top_k_found       0.733750\n",
       "precision         0.250000\n",
       "precision_at_k    0.250000\n",
       "avg_prec          0.240365\n",
       "dcg               0.886853\n",
       "ndcg              0.191215\n",
       "tau               0.486445\n",
       "rho               0.640292\n",
       "dtype: float64"
      ]
     },
     "execution_count": 16,
     "metadata": {},
     "output_type": "execute_result"
    }
   ],
   "source": [
    "# small random pairings\n",
    "seed(1)\n",
    "sim5 = Simulation(32, 6, 500, **{'dist': dist_var, 'k': 8, 'random': True})\n",
    "sim5.simulate()\n",
    "sim5.get_results().mean()"
   ]
  },
  {
   "cell_type": "code",
   "execution_count": 17,
   "metadata": {},
   "outputs": [
    {
     "data": {
      "text/plain": [
       "undef_champ       0.178000\n",
       "top_champ         0.180000\n",
       "top_k_found       0.749250\n",
       "precision         0.137931\n",
       "precision_at_k    0.125000\n",
       "avg_prec          0.130514\n",
       "dcg               0.356207\n",
       "ndcg              0.076802\n",
       "tau               0.464938\n",
       "rho               0.602519\n",
       "dtype: float64"
      ]
     },
     "execution_count": 17,
     "metadata": {},
     "output_type": "execute_result"
    }
   ],
   "source": [
    "# medium random pairings\n",
    "seed(2)\n",
    "sim6 = Simulation(64, 6, 500, **{'dist': dist_var, 'k': 8, 'random': True})\n",
    "sim6.simulate()\n",
    "sim6.get_results().mean()"
   ]
  },
  {
   "cell_type": "code",
   "execution_count": 18,
   "metadata": {},
   "outputs": [
    {
     "data": {
      "text/plain": [
       "undef_champ       0.848000\n",
       "top_champ         0.848000\n",
       "top_k_found       0.983000\n",
       "precision         0.067227\n",
       "precision_at_k    0.250000\n",
       "avg_prec          0.220983\n",
       "dcg               1.386853\n",
       "ndcg              0.299020\n",
       "tau               0.547008\n",
       "rho               0.709345\n",
       "dtype: float64"
      ]
     },
     "execution_count": 18,
     "metadata": {},
     "output_type": "execute_result"
    }
   ],
   "source": [
    "# large random pairings\n",
    "seed(3)\n",
    "sim7 = Simulation(128, 6, 500, **{'dist': dist_var, 'k': 8, 'random': True})\n",
    "sim7.simulate()\n",
    "sim7.get_results().mean()"
   ]
  },
  {
   "cell_type": "code",
   "execution_count": 19,
   "metadata": {},
   "outputs": [
    {
     "data": {
      "text/plain": [
       "undef_champ       0.488000\n",
       "top_champ         0.488000\n",
       "top_k_found       0.886000\n",
       "precision         0.033333\n",
       "precision_at_k    0.000000\n",
       "avg_prec          0.024242\n",
       "dcg               0.000000\n",
       "ndcg              0.000000\n",
       "tau               0.509324\n",
       "rho               0.664203\n",
       "dtype: float64"
      ]
     },
     "execution_count": 19,
     "metadata": {},
     "output_type": "execute_result"
    }
   ],
   "source": [
    "# very large random pairings\n",
    "seed(4)\n",
    "sim8 = Simulation(256, 6, 500, **{'dist': dist_var, 'k': 8, 'random': True})\n",
    "sim8.simulate()\n",
    "sim8.get_results().mean()"
   ]
  },
  {
   "cell_type": "code",
   "execution_count": 20,
   "metadata": {},
   "outputs": [
    {
     "data": {
      "text/html": [
       "<div>\n",
       "<table border=\"1\" class=\"dataframe\">\n",
       "  <thead>\n",
       "    <tr style=\"text-align: right;\">\n",
       "      <th></th>\n",
       "      <th>undef_champ</th>\n",
       "      <th>top_champ</th>\n",
       "      <th>top_k_found</th>\n",
       "      <th>precision</th>\n",
       "      <th>precision_at_k</th>\n",
       "      <th>avg_prec</th>\n",
       "      <th>dcg</th>\n",
       "      <th>ndcg</th>\n",
       "      <th>tau</th>\n",
       "      <th>rho</th>\n",
       "    </tr>\n",
       "  </thead>\n",
       "  <tbody>\n",
       "    <tr>\n",
       "      <th>0</th>\n",
       "      <td>0.198000</td>\n",
       "      <td>0.202000</td>\n",
       "      <td>0.734500</td>\n",
       "      <td>2.500000e-01</td>\n",
       "      <td>0.250</td>\n",
       "      <td>2.403651e-01</td>\n",
       "      <td>8.868528e-01</td>\n",
       "      <td>1.912145e-01</td>\n",
       "      <td>0.490770</td>\n",
       "      <td>0.645253</td>\n",
       "    </tr>\n",
       "    <tr>\n",
       "      <th>0</th>\n",
       "      <td>0.230000</td>\n",
       "      <td>0.230000</td>\n",
       "      <td>0.761000</td>\n",
       "      <td>1.379310e-01</td>\n",
       "      <td>0.125</td>\n",
       "      <td>1.305137e-01</td>\n",
       "      <td>3.562072e-01</td>\n",
       "      <td>7.680190e-02</td>\n",
       "      <td>0.465368</td>\n",
       "      <td>0.602154</td>\n",
       "    </tr>\n",
       "    <tr>\n",
       "      <th>0</th>\n",
       "      <td>0.850000</td>\n",
       "      <td>0.850000</td>\n",
       "      <td>0.986500</td>\n",
       "      <td>6.722689e-02</td>\n",
       "      <td>0.250</td>\n",
       "      <td>2.209833e-01</td>\n",
       "      <td>1.386853e+00</td>\n",
       "      <td>2.990196e-01</td>\n",
       "      <td>0.552047</td>\n",
       "      <td>0.713734</td>\n",
       "    </tr>\n",
       "    <tr>\n",
       "      <th>0</th>\n",
       "      <td>0.522000</td>\n",
       "      <td>0.522000</td>\n",
       "      <td>0.885750</td>\n",
       "      <td>3.333333e-02</td>\n",
       "      <td>0.000</td>\n",
       "      <td>2.424158e-02</td>\n",
       "      <td>0.000000e+00</td>\n",
       "      <td>0.000000e+00</td>\n",
       "      <td>0.516520</td>\n",
       "      <td>0.670263</td>\n",
       "    </tr>\n",
       "    <tr>\n",
       "      <th>0</th>\n",
       "      <td>0.172000</td>\n",
       "      <td>0.178000</td>\n",
       "      <td>0.733750</td>\n",
       "      <td>2.500000e-01</td>\n",
       "      <td>0.250</td>\n",
       "      <td>2.403651e-01</td>\n",
       "      <td>8.868528e-01</td>\n",
       "      <td>1.912145e-01</td>\n",
       "      <td>0.486445</td>\n",
       "      <td>0.640292</td>\n",
       "    </tr>\n",
       "    <tr>\n",
       "      <th>0</th>\n",
       "      <td>0.178000</td>\n",
       "      <td>0.180000</td>\n",
       "      <td>0.749250</td>\n",
       "      <td>1.379310e-01</td>\n",
       "      <td>0.125</td>\n",
       "      <td>1.305137e-01</td>\n",
       "      <td>3.562072e-01</td>\n",
       "      <td>7.680190e-02</td>\n",
       "      <td>0.464938</td>\n",
       "      <td>0.602519</td>\n",
       "    </tr>\n",
       "    <tr>\n",
       "      <th>0</th>\n",
       "      <td>0.848000</td>\n",
       "      <td>0.848000</td>\n",
       "      <td>0.983000</td>\n",
       "      <td>6.722689e-02</td>\n",
       "      <td>0.250</td>\n",
       "      <td>2.209833e-01</td>\n",
       "      <td>1.386853e+00</td>\n",
       "      <td>2.990196e-01</td>\n",
       "      <td>0.547008</td>\n",
       "      <td>0.709345</td>\n",
       "    </tr>\n",
       "    <tr>\n",
       "      <th>0</th>\n",
       "      <td>0.488000</td>\n",
       "      <td>0.488000</td>\n",
       "      <td>0.886000</td>\n",
       "      <td>3.333333e-02</td>\n",
       "      <td>0.000</td>\n",
       "      <td>2.424158e-02</td>\n",
       "      <td>0.000000e+00</td>\n",
       "      <td>0.000000e+00</td>\n",
       "      <td>0.509324</td>\n",
       "      <td>0.664203</td>\n",
       "    </tr>\n",
       "    <tr>\n",
       "      <th>0</th>\n",
       "      <td>0.398891</td>\n",
       "      <td>0.401894</td>\n",
       "      <td>0.105032</td>\n",
       "      <td>0.000000e+00</td>\n",
       "      <td>0.000</td>\n",
       "      <td>2.417153e-15</td>\n",
       "      <td>6.223476e-15</td>\n",
       "      <td>1.833703e-15</td>\n",
       "      <td>0.046828</td>\n",
       "      <td>0.051177</td>\n",
       "    </tr>\n",
       "    <tr>\n",
       "      <th>0</th>\n",
       "      <td>0.421254</td>\n",
       "      <td>0.421254</td>\n",
       "      <td>0.101054</td>\n",
       "      <td>1.389169e-15</td>\n",
       "      <td>0.000</td>\n",
       "      <td>4.167506e-16</td>\n",
       "      <td>2.167103e-15</td>\n",
       "      <td>6.806926e-16</td>\n",
       "      <td>0.043548</td>\n",
       "      <td>0.050962</td>\n",
       "    </tr>\n",
       "    <tr>\n",
       "      <th>0</th>\n",
       "      <td>0.357429</td>\n",
       "      <td>0.357429</td>\n",
       "      <td>0.041938</td>\n",
       "      <td>1.944836e-16</td>\n",
       "      <td>0.000</td>\n",
       "      <td>1.944836e-15</td>\n",
       "      <td>3.778539e-15</td>\n",
       "      <td>7.223677e-16</td>\n",
       "      <td>0.030986</td>\n",
       "      <td>0.029846</td>\n",
       "    </tr>\n",
       "    <tr>\n",
       "      <th>0</th>\n",
       "      <td>0.500016</td>\n",
       "      <td>0.500016</td>\n",
       "      <td>0.104583</td>\n",
       "      <td>2.778337e-17</td>\n",
       "      <td>0.000</td>\n",
       "      <td>2.083753e-16</td>\n",
       "      <td>0.000000e+00</td>\n",
       "      <td>0.000000e+00</td>\n",
       "      <td>0.047561</td>\n",
       "      <td>0.046436</td>\n",
       "    </tr>\n",
       "    <tr>\n",
       "      <th>0</th>\n",
       "      <td>0.377758</td>\n",
       "      <td>0.382896</td>\n",
       "      <td>0.108585</td>\n",
       "      <td>0.000000e+00</td>\n",
       "      <td>0.000</td>\n",
       "      <td>2.417153e-15</td>\n",
       "      <td>6.223476e-15</td>\n",
       "      <td>1.833703e-15</td>\n",
       "      <td>0.043122</td>\n",
       "      <td>0.047995</td>\n",
       "    </tr>\n",
       "    <tr>\n",
       "      <th>0</th>\n",
       "      <td>0.382896</td>\n",
       "      <td>0.384572</td>\n",
       "      <td>0.109794</td>\n",
       "      <td>1.389169e-15</td>\n",
       "      <td>0.000</td>\n",
       "      <td>4.167506e-16</td>\n",
       "      <td>2.167103e-15</td>\n",
       "      <td>6.806926e-16</td>\n",
       "      <td>0.043038</td>\n",
       "      <td>0.049679</td>\n",
       "    </tr>\n",
       "    <tr>\n",
       "      <th>0</th>\n",
       "      <td>0.359380</td>\n",
       "      <td>0.359380</td>\n",
       "      <td>0.045718</td>\n",
       "      <td>1.944836e-16</td>\n",
       "      <td>0.000</td>\n",
       "      <td>1.944836e-15</td>\n",
       "      <td>3.778539e-15</td>\n",
       "      <td>7.223677e-16</td>\n",
       "      <td>0.021973</td>\n",
       "      <td>0.022988</td>\n",
       "    </tr>\n",
       "    <tr>\n",
       "      <th>0</th>\n",
       "      <td>0.500357</td>\n",
       "      <td>0.500357</td>\n",
       "      <td>0.100744</td>\n",
       "      <td>2.778337e-17</td>\n",
       "      <td>0.000</td>\n",
       "      <td>2.083753e-16</td>\n",
       "      <td>0.000000e+00</td>\n",
       "      <td>0.000000e+00</td>\n",
       "      <td>0.023502</td>\n",
       "      <td>0.024616</td>\n",
       "    </tr>\n",
       "  </tbody>\n",
       "</table>\n",
       "</div>"
      ],
      "text/plain": [
       "   undef_champ  top_champ  top_k_found     precision  precision_at_k  \\\n",
       "0     0.198000   0.202000     0.734500  2.500000e-01           0.250   \n",
       "0     0.230000   0.230000     0.761000  1.379310e-01           0.125   \n",
       "0     0.850000   0.850000     0.986500  6.722689e-02           0.250   \n",
       "0     0.522000   0.522000     0.885750  3.333333e-02           0.000   \n",
       "0     0.172000   0.178000     0.733750  2.500000e-01           0.250   \n",
       "0     0.178000   0.180000     0.749250  1.379310e-01           0.125   \n",
       "0     0.848000   0.848000     0.983000  6.722689e-02           0.250   \n",
       "0     0.488000   0.488000     0.886000  3.333333e-02           0.000   \n",
       "0     0.398891   0.401894     0.105032  0.000000e+00           0.000   \n",
       "0     0.421254   0.421254     0.101054  1.389169e-15           0.000   \n",
       "0     0.357429   0.357429     0.041938  1.944836e-16           0.000   \n",
       "0     0.500016   0.500016     0.104583  2.778337e-17           0.000   \n",
       "0     0.377758   0.382896     0.108585  0.000000e+00           0.000   \n",
       "0     0.382896   0.384572     0.109794  1.389169e-15           0.000   \n",
       "0     0.359380   0.359380     0.045718  1.944836e-16           0.000   \n",
       "0     0.500357   0.500357     0.100744  2.778337e-17           0.000   \n",
       "\n",
       "       avg_prec           dcg          ndcg       tau       rho  \n",
       "0  2.403651e-01  8.868528e-01  1.912145e-01  0.490770  0.645253  \n",
       "0  1.305137e-01  3.562072e-01  7.680190e-02  0.465368  0.602154  \n",
       "0  2.209833e-01  1.386853e+00  2.990196e-01  0.552047  0.713734  \n",
       "0  2.424158e-02  0.000000e+00  0.000000e+00  0.516520  0.670263  \n",
       "0  2.403651e-01  8.868528e-01  1.912145e-01  0.486445  0.640292  \n",
       "0  1.305137e-01  3.562072e-01  7.680190e-02  0.464938  0.602519  \n",
       "0  2.209833e-01  1.386853e+00  2.990196e-01  0.547008  0.709345  \n",
       "0  2.424158e-02  0.000000e+00  0.000000e+00  0.509324  0.664203  \n",
       "0  2.417153e-15  6.223476e-15  1.833703e-15  0.046828  0.051177  \n",
       "0  4.167506e-16  2.167103e-15  6.806926e-16  0.043548  0.050962  \n",
       "0  1.944836e-15  3.778539e-15  7.223677e-16  0.030986  0.029846  \n",
       "0  2.083753e-16  0.000000e+00  0.000000e+00  0.047561  0.046436  \n",
       "0  2.417153e-15  6.223476e-15  1.833703e-15  0.043122  0.047995  \n",
       "0  4.167506e-16  2.167103e-15  6.806926e-16  0.043038  0.049679  \n",
       "0  1.944836e-15  3.778539e-15  7.223677e-16  0.021973  0.022988  \n",
       "0  2.083753e-16  0.000000e+00  0.000000e+00  0.023502  0.024616  "
      ]
     },
     "execution_count": 20,
     "metadata": {},
     "output_type": "execute_result"
    }
   ],
   "source": [
    "res = pd.concat([pd.DataFrame(sim.get_results().mean()).transpose(),\n",
    "           pd.DataFrame(sim2.get_results().mean()).transpose(),\n",
    "           pd.DataFrame(sim3.get_results().mean()).transpose(),\n",
    "           pd.DataFrame(sim4.get_results().mean()).transpose(),\n",
    "           pd.DataFrame(sim5.get_results().mean()).transpose(),\n",
    "           pd.DataFrame(sim6.get_results().mean()).transpose(),\n",
    "           pd.DataFrame(sim7.get_results().mean()).transpose(),\n",
    "           pd.DataFrame(sim8.get_results().mean()).transpose(),\n",
    "          ])\n",
    "res2 = pd.concat([pd.DataFrame(sim.get_results().std()).transpose(),\n",
    "           pd.DataFrame(sim2.get_results().std()).transpose(),\n",
    "           pd.DataFrame(sim3.get_results().std()).transpose(),\n",
    "           pd.DataFrame(sim4.get_results().std()).transpose(),\n",
    "           pd.DataFrame(sim5.get_results().std()).transpose(),\n",
    "           pd.DataFrame(sim6.get_results().std()).transpose(),\n",
    "           pd.DataFrame(sim7.get_results().std()).transpose(),\n",
    "           pd.DataFrame(sim8.get_results().std()).transpose(),\n",
    "          ])\n",
    "pd.concat([res,res2])"
   ]
  },
  {
   "cell_type": "code",
   "execution_count": null,
   "metadata": {
    "collapsed": true
   },
   "outputs": [],
   "source": []
  }
 ],
 "metadata": {
  "anaconda-cloud": {},
  "kernelspec": {
   "display_name": "Python [conda root]",
   "language": "python",
   "name": "conda-root-py"
  },
  "language_info": {
   "codemirror_mode": {
    "name": "ipython",
    "version": 3
   },
   "file_extension": ".py",
   "mimetype": "text/x-python",
   "name": "python",
   "nbconvert_exporter": "python",
   "pygments_lexer": "ipython3",
   "version": "3.5.2"
  }
 },
 "nbformat": 4,
 "nbformat_minor": 1
}
